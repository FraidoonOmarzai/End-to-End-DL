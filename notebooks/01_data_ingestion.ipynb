{
 "cells": [
  {
   "cell_type": "code",
   "execution_count": 1,
   "metadata": {},
   "outputs": [
    {
     "name": "stdout",
     "output_type": "stream",
     "text": [
      "/home/techie/Desktop/general/End-to-End-DL/notebooks\n"
     ]
    }
   ],
   "source": [
    "!pwd"
   ]
  },
  {
   "cell_type": "code",
   "execution_count": 2,
   "metadata": {},
   "outputs": [
    {
     "name": "stdout",
     "output_type": "stream",
     "text": [
      "/home/techie/Desktop/general/End-to-End-DL\n"
     ]
    }
   ],
   "source": [
    "import os \n",
    "\n",
    "os.chdir(\"../\")\n",
    "!pwd"
   ]
  },
  {
   "cell_type": "code",
   "execution_count": 3,
   "metadata": {},
   "outputs": [],
   "source": [
    "from zipfile import ZipFile\n",
    "from PnemoniaDisease.utils.utils import read_yaml, create_directories\n",
    "from PnemoniaDisease import logger\n",
    "import urllib.request as request\n",
    "from PnemoniaDisease.constants import CONFIG_FILE_PATH"
   ]
  },
  {
   "cell_type": "code",
   "execution_count": 4,
   "metadata": {},
   "outputs": [
    {
     "data": {
      "text/plain": [
       "PosixPath('config/config.yaml')"
      ]
     },
     "execution_count": 4,
     "metadata": {},
     "output_type": "execute_result"
    }
   ],
   "source": [
    "CONFIG_FILE_PATH"
   ]
  },
  {
   "cell_type": "code",
   "execution_count": 5,
   "metadata": {},
   "outputs": [],
   "source": [
    "class DataIngestion:\n",
    "    def __init__(self, params_filepath = CONFIG_FILE_PATH):\n",
    "        self.config = read_yaml(params_filepath)\n",
    "\n",
    "\n",
    "    def download_file(self):\n",
    "\n",
    "        if not os.path.exists(self.config.data_ingestion.zip_dir):\n",
    "            filename, headers = request.urlretrieve(url = self.config.data_ingestion.source_URL, \n",
    "                                                    filename = self.config.data_ingestion.zip_dir)\n",
    "            logger.info(f\"{filename} download! with following info: \\n{headers}\")\n",
    "        else:\n",
    "            logger.info(\"File already exists\")\n",
    "\n",
    "\n",
    "    def extract_zip_file(self):\n",
    "     \n",
    "        with ZipFile(self.config.data_ingestion.zip_dir, \"r\") as zip:\n",
    "            zip.extractall(self.config.data_ingestion.unzip_dir)\n",
    "            logger.info(\"file extracted successfully\")"
   ]
  },
  {
   "cell_type": "code",
   "execution_count": 6,
   "metadata": {},
   "outputs": [
    {
     "name": "stdout",
     "output_type": "stream",
     "text": [
      "[2023-10-07 20:14:39,373: INFO: utils: yaml file: config/config.yaml loaded successfully]\n",
      "[2023-10-07 20:14:39,458: INFO: 1373027975: File already exists]\n",
      "[2023-10-07 20:14:41,659: INFO: 1373027975: file extracted successfully]\n"
     ]
    }
   ],
   "source": [
    "try:\n",
    "    data_ingestion = DataIngestion(params_filepath = CONFIG_FILE_PATH)\n",
    "    data_ingestion.download_file()\n",
    "    data_ingestion.extract_zip_file()\n",
    "except Exception as e:\n",
    "    raise e"
   ]
  }
 ],
 "metadata": {
  "kernelspec": {
   "display_name": "dl-env",
   "language": "python",
   "name": "python3"
  },
  "language_info": {
   "codemirror_mode": {
    "name": "ipython",
    "version": 3
   },
   "file_extension": ".py",
   "mimetype": "text/x-python",
   "name": "python",
   "nbconvert_exporter": "python",
   "pygments_lexer": "ipython3",
   "version": "3.9.12"
  },
  "orig_nbformat": 4
 },
 "nbformat": 4,
 "nbformat_minor": 2
}
